{
  "nbformat": 4,
  "nbformat_minor": 0,
  "metadata": {
    "colab": {
      "provenance": [],
      "authorship_tag": "ABX9TyNA04BV6TXfUGk7jgJS2kuz",
      "include_colab_link": true
    },
    "kernelspec": {
      "name": "python3",
      "display_name": "Python 3"
    },
    "language_info": {
      "name": "python"
    }
  },
  "cells": [
    {
      "cell_type": "markdown",
      "metadata": {
        "id": "view-in-github",
        "colab_type": "text"
      },
      "source": [
        "<a href=\"https://colab.research.google.com/github/Kaizer1er/2206-Wolinski-GeospatialDataviz/blob/master/GraphiqueMarcheur.ipynb\" target=\"_parent\"><img src=\"https://colab.research.google.com/assets/colab-badge.svg\" alt=\"Open In Colab\"/></a>"
      ]
    },
    {
      "cell_type": "code",
      "execution_count": null,
      "metadata": {
        "colab": {
          "base_uri": "https://localhost:8080/",
          "height": 35
        },
        "id": "j2W-CaOC1eng",
        "outputId": "9a42d057-9eab-44cf-9a58-20430f3e3586"
      },
      "outputs": [
        {
          "output_type": "execute_result",
          "data": {
            "text/plain": [
              "'flowchart_simulation_colored.png'"
            ],
            "application/vnd.google.colaboratory.intrinsic+json": {
              "type": "string"
            }
          },
          "metadata": {},
          "execution_count": 2
        }
      ],
      "source": [
        "from graphviz import Digraph\n",
        "\n",
        "# Create a new directed graph\n",
        "diagram = Digraph(format='png', comment='Flowchart for Random Walk Simulation')\n",
        "\n",
        "# Define nodes with colors\n",
        "# Étapes principales en bleu\n",
        "diagram.node('A', 'Importation des bibliothèques', shape='rect', style='filled', color='lightblue')\n",
        "diagram.node('B', 'Déclaration des variables globales', shape='rect', style='filled', color='lightblue')\n",
        "diagram.node('C', 'Chargement et validation de la couche grille', shape='rect', style='filled', color='lightblue')\n",
        "diagram.node('D', 'Filtrage des espaces libres (free_space)', shape='rect', style='filled', color='lightblue')\n",
        "\n",
        "# Étapes secondaires en vert clair\n",
        "diagram.node('E', 'Initialisation des paramètres (point de départ, limites, etc.)', shape='rect', style='filled', color='lightgreen')\n",
        "diagram.node('F', 'Boucle de simulation (déplacements aléatoires)', shape='rect', style='filled', color='lightgreen')\n",
        "diagram.node('G', 'Trouver les voisins valides', shape='rect', style='filled', color='lightgreen')\n",
        "diagram.node('H', 'Choisir une position aléatoire parmi les voisins', shape='rect', style='filled', color='lightgreen')\n",
        "diagram.node('I', 'Mettre à jour la position et la trajectoire', shape='rect', style='filled', color='lightgreen')\n",
        "\n",
        "# Étape finale en gris clair\n",
        "diagram.node('J', 'Exporter les résultats (points et lignes)', shape='rect', style='filled', color='lightgrey')\n",
        "diagram.node('K', 'Fin', shape='rect', style='filled', color='lightgrey')\n",
        "\n",
        "# Add edges\n",
        "diagram.edges(['AB', 'BC', 'CD', 'DE'])\n",
        "diagram.edge('E', 'F', label='Début de la simulation')\n",
        "diagram.edge('F', 'G', label='Pour chaque itération')\n",
        "diagram.edge('G', 'H', label='Si voisins valides')\n",
        "diagram.edge('H', 'I')\n",
        "diagram.edge('G', 'F', label='Pas de voisins valides (retour)')\n",
        "diagram.edge('I', 'F', label='Retour à la boucle')\n",
        "diagram.edge('F', 'J', label='Fin des déplacements')\n",
        "diagram.edge('J', 'K')\n",
        "\n",
        "# Save and render\n",
        "diagram.render('flowchart_simulation_colored')"
      ]
    }
  ]
}